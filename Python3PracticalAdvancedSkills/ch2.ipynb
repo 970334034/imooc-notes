{
    "cells": [
        {
            "cell_type": "markdown",
            "metadata": {},
            "source": [
                "# 第2章 数据结构与算法相关问题与解决技巧\n",
                "## 2-1 如何在列表, 字典, 集合中根据条件筛选数据\n",
                "![](images/2-1.png)"
            ]
        },
        {
            "cell_type": "code",
            "execution_count": 1,
            "metadata": {},
            "outputs": [
                {
                    "data": {
                        "text/plain": [
                            "[10, -3, 9, 7, -5, 10, 3, 9, -1, 5]"
                        ]
                    },
                    "execution_count": 1,
                    "metadata": {},
                    "output_type": "execute_result"
                }
            ],
            "source": [
                "from random import randint\n",
                "data = [randint(-10, 10) for _ in range(10)]\n",
                "data"
            ]
        },
        {
            "cell_type": "markdown",
            "metadata": {},
            "source": [
                "### 1. 过滤掉列表中的负数"
            ]
        },
        {
            "cell_type": "markdown",
            "metadata": {},
            "source": [
                "- 使用 filter 函数"
            ]
        },
        {
            "cell_type": "code",
            "execution_count": 2,
            "metadata": {},
            "outputs": [
                {
                    "name": "stdout",
                    "output_type": "stream",
                    "text": [
                        "10 9 7 10 3 9 5 "
                    ]
                }
            ],
            "source": [
                "data1 = filter(lambda x: x >= 0, data)\n",
                "for i in data1:\n",
                "    print(i, end=' ')"
            ]
        },
        {
            "cell_type": "markdown",
            "metadata": {},
            "source": [
                "- 使用列表解析"
            ]
        },
        {
            "cell_type": "code",
            "execution_count": 3,
            "metadata": {
                "scrolled": true
            },
            "outputs": [
                {
                    "data": {
                        "text/plain": [
                            "[10, 9, 7, 10, 3, 9, 5]"
                        ]
                    },
                    "execution_count": 3,
                    "metadata": {},
                    "output_type": "execute_result"
                }
            ],
            "source": [
                "[x for  x in  data if x >=0]"
            ]
        },
        {
            "cell_type": "markdown",
            "metadata": {},
            "source": [
                "比较两种方法的耗时："
            ]
        },
        {
            "cell_type": "code",
            "execution_count": 4,
            "metadata": {},
            "outputs": [
                {
                    "name": "stdout",
                    "output_type": "stream",
                    "text": [
                        "151 ns ± 0.541 ns per loop (mean ± std. dev. of 7 runs, 10000000 loops each)\n"
                    ]
                }
            ],
            "source": [
                "%timeit filter(lambda x: x >= 0, data)"
            ]
        },
        {
            "cell_type": "code",
            "execution_count": 5,
            "metadata": {},
            "outputs": [
                {
                    "name": "stdout",
                    "output_type": "stream",
                    "text": [
                        "441 ns ± 1.6 ns per loop (mean ± std. dev. of 7 runs, 1000000 loops each)\n"
                    ]
                }
            ],
            "source": [
                "%timeit [x for  x in  data if x >=0]"
            ]
        },
        {
            "cell_type": "markdown",
            "metadata": {},
            "source": [
                "### 2. 筛选出字典中的一些数据"
            ]
        },
        {
            "cell_type": "code",
            "execution_count": 6,
            "metadata": {},
            "outputs": [
                {
                    "data": {
                        "text/plain": [
                            "{11: 98, 14: 99, 17: 91}"
                        ]
                    },
                    "execution_count": 6,
                    "metadata": {},
                    "output_type": "execute_result"
                }
            ],
            "source": [
                "d = {x: randint(60, 100) for x in range(1, 20)} # 某班学生成绩\n",
                "\n",
                "{k:v for k, v in d.items() if v > 90}"
            ]
        },
        {
            "cell_type": "markdown",
            "metadata": {},
            "source": [
                "### 3. 筛选出集合中的一些数据"
            ]
        },
        {
            "cell_type": "code",
            "execution_count": 7,
            "metadata": {},
            "outputs": [
                {
                    "data": {
                        "text/plain": [
                            "{-3, 3, 9}"
                        ]
                    },
                    "execution_count": 7,
                    "metadata": {},
                    "output_type": "execute_result"
                }
            ],
            "source": [
                "s = set(data)\n",
                "{x for x in s if x%3 ==0}"
            ]
        },
        {
            "cell_type": "markdown",
            "metadata": {},
            "source": [
                "### 总结：\n",
                "![](images/2-1-1.png)"
            ]
        },
        {
            "cell_type": "markdown",
            "metadata": {},
            "source": [
                "## 2-2 如何为元组中的每个元素命名, 提高程序可读性\n",
                "![](images/2-2.png)"
            ]
        },
        {
            "cell_type": "markdown",
            "metadata": {},
            "source": [
                "### 1. 定义一系列数值常量"
            ]
        },
        {
            "cell_type": "code",
            "execution_count": 8,
            "metadata": {
                "scrolled": true
            },
            "outputs": [
                {
                    "name": "stdout",
                    "output_type": "stream",
                    "text": [
                        "Jim\n"
                    ]
                }
            ],
            "source": [
                "# ('Jim', 16, 'male', 'jim8721@gmail.com')\n",
                "# ('LiLei', 17, 'male', 'leile@qq.com')\n",
                "# ('Lucy', 16, 'female', 'lucy123@yahoo.com')\n",
                "NAME, AGE, SEX, EMAIL = range(4)\n",
                "student = ('Jim', 16, 'male', 'jim8721@gmail.com')\n",
                "\n",
                "# name\n",
                "print(student[NAME])"
            ]
        },
        {
            "cell_type": "markdown",
            "metadata": {},
            "source": [
                "### 2. 使用 collections.namedtuple"
            ]
        },
        {
            "cell_type": "code",
            "execution_count": 9,
            "metadata": {},
            "outputs": [
                {
                    "data": {
                        "text/plain": [
                            "'Jim'"
                        ]
                    },
                    "execution_count": 9,
                    "metadata": {},
                    "output_type": "execute_result"
                }
            ],
            "source": [
                "from collections import namedtuple\n",
                "Student = namedtuple('Student', ['name', 'age', 'sex', 'email'])\n",
                "s = Student('Jim', 16, 'male', 'jim8721@gmail.com')\n",
                "s.name"
            ]
        },
        {
            "cell_type": "markdown",
            "metadata": {},
            "source": [
                "### 总结\n",
                "![](images/2-2-1.png)"
            ]
        },
        {
            "cell_type": "markdown",
            "metadata": {},
            "source": [
                "## 2-3 如何统计序列中元素的频度\n",
                "![](images/2-3.png)"
            ]
        },
        {
            "cell_type": "code",
            "execution_count": 10,
            "metadata": {
                "scrolled": true
            },
            "outputs": [
                {
                    "data": {
                        "text/plain": [
                            "{1: 0,\n",
                            " 19: 0,\n",
                            " 5: 0,\n",
                            " 4: 0,\n",
                            " 2: 0,\n",
                            " 8: 0,\n",
                            " 12: 0,\n",
                            " 13: 0,\n",
                            " 16: 0,\n",
                            " 6: 0,\n",
                            " 9: 0,\n",
                            " 20: 0,\n",
                            " 7: 0,\n",
                            " 14: 0}"
                        ]
                    },
                    "execution_count": 10,
                    "metadata": {},
                    "output_type": "execute_result"
                }
            ],
            "source": [
                "data = [randint(0, 20) for _ in range(30)]\n",
                "c = dict.fromkeys(data, 0)\n",
                "c"
            ]
        },
        {
            "cell_type": "markdown",
            "metadata": {},
            "source": [
                "### 1. 一般方法"
            ]
        },
        {
            "cell_type": "code",
            "execution_count": 11,
            "metadata": {
                "scrolled": true
            },
            "outputs": [
                {
                    "data": {
                        "text/plain": [
                            "{1: 2,\n",
                            " 19: 4,\n",
                            " 5: 6,\n",
                            " 4: 8,\n",
                            " 2: 4,\n",
                            " 8: 4,\n",
                            " 12: 10,\n",
                            " 13: 2,\n",
                            " 16: 4,\n",
                            " 6: 4,\n",
                            " 9: 4,\n",
                            " 20: 4,\n",
                            " 7: 2,\n",
                            " 14: 2}"
                        ]
                    },
                    "execution_count": 11,
                    "metadata": {},
                    "output_type": "execute_result"
                }
            ],
            "source": [
                "for x in data:\n",
                "    c[x] += 1\n",
                "c # 然后根据 字典 值的排序，输出前三 详见 【Python高效编程技巧实战 - 2-4 如何根据字典中值的大小, 对字典中的项排序】"
            ]
        },
        {
            "cell_type": "markdown",
            "metadata": {},
            "source": [
                "### 2. 使用 Counter 函数"
            ]
        },
        {
            "cell_type": "code",
            "execution_count": 12,
            "metadata": {
                "scrolled": false
            },
            "outputs": [
                {
                    "data": {
                        "text/plain": [
                            "Counter({1: 1,\n",
                            "         19: 2,\n",
                            "         5: 3,\n",
                            "         4: 4,\n",
                            "         2: 2,\n",
                            "         8: 2,\n",
                            "         12: 5,\n",
                            "         13: 1,\n",
                            "         16: 2,\n",
                            "         6: 2,\n",
                            "         9: 2,\n",
                            "         20: 2,\n",
                            "         7: 1,\n",
                            "         14: 1})"
                        ]
                    },
                    "execution_count": 12,
                    "metadata": {},
                    "output_type": "execute_result"
                }
            ],
            "source": [
                "from collections import Counter\n",
                "c2 = Counter(data)\n",
                "c2"
            ]
        },
        {
            "cell_type": "code",
            "execution_count": 13,
            "metadata": {
                "scrolled": true
            },
            "outputs": [
                {
                    "data": {
                        "text/plain": [
                            "[(12, 5), (4, 4), (5, 3)]"
                        ]
                    },
                    "execution_count": 13,
                    "metadata": {},
                    "output_type": "execute_result"
                }
            ],
            "source": [
                "c2.most_common(3)"
            ]
        },
        {
            "cell_type": "markdown",
            "metadata": {},
            "source": [
                "### 总结\n",
                "![](images/2-3-1.png)"
            ]
        }
    ],
    "metadata": {
        "kernelspec": {
            "display_name": "Python 3",
            "language": "python",
            "name": "python3"
        },
        "language_info": {
            "codemirror_mode": {
                "name": "ipython",
                "version": 3
            },
            "file_extension": ".py",
            "mimetype": "text/x-python",
            "name": "python",
            "nbconvert_exporter": "python",
            "pygments_lexer": "ipython3",
            "version": "3.7.1"
        }
    },
    "nbformat": 4,
    "nbformat_minor": 2
}